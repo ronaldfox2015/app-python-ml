{
 "cells": [
  {
   "cell_type": "markdown",
   "metadata": {},
   "source": [
    "<center><img src=\"http://milestonetechs.com/media/filer_public_thumbnails/filer_public/24/26/24260fc4-2637-4348-b2bd-3c333f2f806d/python_logo.jpg__800x250_q85_crop_subsampling-2.jpg\" width=\"1000\"></center>"
   ]
  },
  {
   "cell_type": "markdown",
   "metadata": {},
   "source": [
    "# Programa de Especialización en Python\n",
    "\n",
    "## Tema 8. Discretización de datos\n",
    "\n",
    "### Prof. Manuel Sigüeñas, M.Sc.(c)"
   ]
  },
  {
   "cell_type": "markdown",
   "metadata": {},
   "source": [
    "<a id='beginning'></a>\n",
    "Warehousing (proyecto de almacenamiento de datos) puede resultar en terabytes de datos: Tareas complejas de data mining o machine learning pueden demorar mucho tiempo en ejecutarse sobre el conjunto completo de datos. Ante este problema surge la idea de reducción de datos, cuyo objetivo es buscar una representación reducida del conjunto de datos que es mucho más pequeña en volumen, pero produce los mismos (o casi iguales) resultados. Las estrategias de reducción de datos son: agregación del cubo de datos. discretización y reducción de la dimensionalidad. En esta sección nos ocuparemos de la discretización de datos:\n",
    "\n",
    "1. [Discretización](#part1)\n",
    "2. [Escalado de variables regresoras](#part2)\n",
    "3. [Discretización por intervalos de igual amplitud](#part3)\n",
    "4. [Discretización por Cuantil](#part4)\n",
    "5. [Discretización por kmeans](#part5)"
   ]
  },
  {
   "cell_type": "code",
   "execution_count": 1,
   "metadata": {},
   "outputs": [],
   "source": [
    "from IPython.display import Image\n",
    "%matplotlib inline"
   ]
  },
  {
   "cell_type": "code",
   "execution_count": 2,
   "metadata": {},
   "outputs": [],
   "source": [
    "import pandas as pd"
   ]
  },
  {
   "cell_type": "code",
   "execution_count": 3,
   "metadata": {},
   "outputs": [
    {
     "data": {
      "text/html": [
       "<div>\n",
       "<style scoped>\n",
       "    .dataframe tbody tr th:only-of-type {\n",
       "        vertical-align: middle;\n",
       "    }\n",
       "\n",
       "    .dataframe tbody tr th {\n",
       "        vertical-align: top;\n",
       "    }\n",
       "\n",
       "    .dataframe thead th {\n",
       "        text-align: right;\n",
       "    }\n",
       "</style>\n",
       "<table border=\"1\" class=\"dataframe\">\n",
       "  <thead>\n",
       "    <tr style=\"text-align: right;\">\n",
       "      <th></th>\n",
       "      <th>media del volúmen corpusculas</th>\n",
       "      <th>fosfatasa alcalina</th>\n",
       "      <th>alamine aminotransferase</th>\n",
       "      <th>aspartate aminotransferase</th>\n",
       "      <th>gamma-glutamyl transpeptidase</th>\n",
       "      <th>media de bebidas alchólicas por día</th>\n",
       "      <th>condición del paciente</th>\n",
       "    </tr>\n",
       "  </thead>\n",
       "  <tbody>\n",
       "    <tr>\n",
       "      <th>0</th>\n",
       "      <td>85</td>\n",
       "      <td>92</td>\n",
       "      <td>45</td>\n",
       "      <td>27</td>\n",
       "      <td>31</td>\n",
       "      <td>0.0</td>\n",
       "      <td>1</td>\n",
       "    </tr>\n",
       "    <tr>\n",
       "      <th>1</th>\n",
       "      <td>85</td>\n",
       "      <td>64</td>\n",
       "      <td>59</td>\n",
       "      <td>32</td>\n",
       "      <td>23</td>\n",
       "      <td>0.0</td>\n",
       "      <td>2</td>\n",
       "    </tr>\n",
       "    <tr>\n",
       "      <th>2</th>\n",
       "      <td>86</td>\n",
       "      <td>54</td>\n",
       "      <td>33</td>\n",
       "      <td>16</td>\n",
       "      <td>54</td>\n",
       "      <td>0.0</td>\n",
       "      <td>2</td>\n",
       "    </tr>\n",
       "    <tr>\n",
       "      <th>3</th>\n",
       "      <td>91</td>\n",
       "      <td>78</td>\n",
       "      <td>34</td>\n",
       "      <td>24</td>\n",
       "      <td>36</td>\n",
       "      <td>0.0</td>\n",
       "      <td>2</td>\n",
       "    </tr>\n",
       "    <tr>\n",
       "      <th>4</th>\n",
       "      <td>87</td>\n",
       "      <td>70</td>\n",
       "      <td>12</td>\n",
       "      <td>28</td>\n",
       "      <td>10</td>\n",
       "      <td>0.0</td>\n",
       "      <td>2</td>\n",
       "    </tr>\n",
       "  </tbody>\n",
       "</table>\n",
       "</div>"
      ],
      "text/plain": [
       "   media del volúmen corpusculas  fosfatasa alcalina  \\\n",
       "0                             85                  92   \n",
       "1                             85                  64   \n",
       "2                             86                  54   \n",
       "3                             91                  78   \n",
       "4                             87                  70   \n",
       "\n",
       "   alamine aminotransferase  aspartate aminotransferase  \\\n",
       "0                        45                          27   \n",
       "1                        59                          32   \n",
       "2                        33                          16   \n",
       "3                        34                          24   \n",
       "4                        12                          28   \n",
       "\n",
       "   gamma-glutamyl transpeptidase  media de bebidas alchólicas por día  \\\n",
       "0                             31                                  0.0   \n",
       "1                             23                                  0.0   \n",
       "2                             54                                  0.0   \n",
       "3                             36                                  0.0   \n",
       "4                             10                                  0.0   \n",
       "\n",
       "   condición del paciente  \n",
       "0                       1  \n",
       "1                       2  \n",
       "2                       2  \n",
       "3                       2  \n",
       "4                       2  "
      ]
     },
     "execution_count": 3,
     "metadata": {},
     "output_type": "execute_result"
    }
   ],
   "source": [
    "FileCSV=\"/home/ronald/Sistemas/app-python-ml/app/sesión_5/datos/bupa.txt\"\n",
    "#Data Bupa\n",
    "bupa=pd.read_csv(FileCSV)\n",
    "bupa=bupa.rename(columns = {\"V1\":\"media del volúmen corpusculas\", \"V2\":\"fosfatasa alcalina\", \"V3\":\"alamine aminotransferase\", \n",
    "              \"V4\":\"aspartate aminotransferase\", \"V5\":\"gamma-glutamyl transpeptidase\", \n",
    "              \"V6\":\"media de bebidas alchólicas por día\", \"V7\":\"condición del paciente\"})\n",
    "bupa.head()\n",
    "#condición del paciente: 1 (higado enfermo) 2 (higado sano)"
   ]
  },
  {
   "cell_type": "code",
   "execution_count": 4,
   "metadata": {},
   "outputs": [],
   "source": [
    "from sklearn.model_selection import train_test_split"
   ]
  },
  {
   "cell_type": "code",
   "execution_count": 5,
   "metadata": {},
   "outputs": [],
   "source": [
    "X, y = bupa.iloc[:, 0:6].values, bupa.iloc[:, 6].values\n",
    "\n",
    "X_train, X_test, y_train, y_test =\\\n",
    "    train_test_split(X, y, \n",
    "                     test_size=0.3, \n",
    "                     random_state=0, \n",
    "                     stratify=y)"
   ]
  },
  {
   "cell_type": "code",
   "execution_count": 6,
   "metadata": {},
   "outputs": [
    {
     "data": {
      "text/plain": [
       "numpy.ndarray"
      ]
     },
     "execution_count": 6,
     "metadata": {},
     "output_type": "execute_result"
    }
   ],
   "source": [
    "type(X_train)"
   ]
  },
  {
   "cell_type": "code",
   "execution_count": 7,
   "metadata": {},
   "outputs": [
    {
     "data": {
      "text/html": [
       "<div>\n",
       "<style scoped>\n",
       "    .dataframe tbody tr th:only-of-type {\n",
       "        vertical-align: middle;\n",
       "    }\n",
       "\n",
       "    .dataframe tbody tr th {\n",
       "        vertical-align: top;\n",
       "    }\n",
       "\n",
       "    .dataframe thead th {\n",
       "        text-align: right;\n",
       "    }\n",
       "</style>\n",
       "<table border=\"1\" class=\"dataframe\">\n",
       "  <thead>\n",
       "    <tr style=\"text-align: right;\">\n",
       "      <th></th>\n",
       "      <th>media del volúmen corpusculas</th>\n",
       "      <th>fosfatasa alcalina</th>\n",
       "      <th>alamine aminotransferase</th>\n",
       "      <th>aspartate aminotransferase</th>\n",
       "      <th>gamma-glutamyl transpeptidase</th>\n",
       "      <th>media de bebidas alchólicas por día</th>\n",
       "      <th>condición del paciente</th>\n",
       "    </tr>\n",
       "  </thead>\n",
       "  <tbody>\n",
       "    <tr>\n",
       "      <th>0</th>\n",
       "      <td>88.0</td>\n",
       "      <td>122.0</td>\n",
       "      <td>35.0</td>\n",
       "      <td>29.0</td>\n",
       "      <td>42.0</td>\n",
       "      <td>0.5</td>\n",
       "      <td>2</td>\n",
       "    </tr>\n",
       "    <tr>\n",
       "      <th>1</th>\n",
       "      <td>87.0</td>\n",
       "      <td>66.0</td>\n",
       "      <td>27.0</td>\n",
       "      <td>22.0</td>\n",
       "      <td>9.0</td>\n",
       "      <td>2.0</td>\n",
       "      <td>1</td>\n",
       "    </tr>\n",
       "    <tr>\n",
       "      <th>2</th>\n",
       "      <td>84.0</td>\n",
       "      <td>82.0</td>\n",
       "      <td>21.0</td>\n",
       "      <td>21.0</td>\n",
       "      <td>19.0</td>\n",
       "      <td>0.5</td>\n",
       "      <td>2</td>\n",
       "    </tr>\n",
       "    <tr>\n",
       "      <th>3</th>\n",
       "      <td>90.0</td>\n",
       "      <td>67.0</td>\n",
       "      <td>35.0</td>\n",
       "      <td>19.0</td>\n",
       "      <td>35.0</td>\n",
       "      <td>2.0</td>\n",
       "      <td>1</td>\n",
       "    </tr>\n",
       "    <tr>\n",
       "      <th>4</th>\n",
       "      <td>82.0</td>\n",
       "      <td>48.0</td>\n",
       "      <td>27.0</td>\n",
       "      <td>15.0</td>\n",
       "      <td>12.0</td>\n",
       "      <td>0.5</td>\n",
       "      <td>1</td>\n",
       "    </tr>\n",
       "  </tbody>\n",
       "</table>\n",
       "</div>"
      ],
      "text/plain": [
       "   media del volúmen corpusculas  fosfatasa alcalina  \\\n",
       "0                           88.0               122.0   \n",
       "1                           87.0                66.0   \n",
       "2                           84.0                82.0   \n",
       "3                           90.0                67.0   \n",
       "4                           82.0                48.0   \n",
       "\n",
       "   alamine aminotransferase  aspartate aminotransferase  \\\n",
       "0                      35.0                        29.0   \n",
       "1                      27.0                        22.0   \n",
       "2                      21.0                        21.0   \n",
       "3                      35.0                        19.0   \n",
       "4                      27.0                        15.0   \n",
       "\n",
       "   gamma-glutamyl transpeptidase  media de bebidas alchólicas por día  \\\n",
       "0                           42.0                                  0.5   \n",
       "1                            9.0                                  2.0   \n",
       "2                           19.0                                  0.5   \n",
       "3                           35.0                                  2.0   \n",
       "4                           12.0                                  0.5   \n",
       "\n",
       "   condición del paciente  \n",
       "0                       2  \n",
       "1                       1  \n",
       "2                       2  \n",
       "3                       1  \n",
       "4                       1  "
      ]
     },
     "execution_count": 7,
     "metadata": {},
     "output_type": "execute_result"
    }
   ],
   "source": [
    "#Datos de entrenamiento\n",
    "x_t= pd.DataFrame(X_train, columns=[\"media del volúmen corpusculas\", \"fosfatasa alcalina\", \n",
    "                                  \"alamine aminotransferase\", \"aspartate aminotransferase\", \n",
    "                                  \"gamma-glutamyl transpeptidase\", \"media de bebidas alchólicas por día\"])\n",
    "y_t= pd.DataFrame(y_train, columns=[\"condición del paciente\"])\n",
    "\n",
    "bupa_entrenamiento = pd.concat([x_t, y_t], axis=1)\n",
    "bupa_entrenamiento.head()"
   ]
  },
  {
   "cell_type": "code",
   "execution_count": 8,
   "metadata": {},
   "outputs": [
    {
     "data": {
      "text/plain": [
       "media del volúmen corpusculas          241\n",
       "fosfatasa alcalina                     241\n",
       "alamine aminotransferase               241\n",
       "aspartate aminotransferase             241\n",
       "gamma-glutamyl transpeptidase          241\n",
       "media de bebidas alchólicas por día    241\n",
       "condición del paciente                 241\n",
       "dtype: int64"
      ]
     },
     "execution_count": 8,
     "metadata": {},
     "output_type": "execute_result"
    }
   ],
   "source": [
    "bupa_entrenamiento.count()"
   ]
  },
  {
   "cell_type": "code",
   "execution_count": 9,
   "metadata": {},
   "outputs": [
    {
     "data": {
      "text/html": [
       "<div>\n",
       "<style scoped>\n",
       "    .dataframe tbody tr th:only-of-type {\n",
       "        vertical-align: middle;\n",
       "    }\n",
       "\n",
       "    .dataframe tbody tr th {\n",
       "        vertical-align: top;\n",
       "    }\n",
       "\n",
       "    .dataframe thead th {\n",
       "        text-align: right;\n",
       "    }\n",
       "</style>\n",
       "<table border=\"1\" class=\"dataframe\">\n",
       "  <thead>\n",
       "    <tr style=\"text-align: right;\">\n",
       "      <th></th>\n",
       "      <th>media del volúmen corpusculas</th>\n",
       "      <th>fosfatasa alcalina</th>\n",
       "      <th>alamine aminotransferase</th>\n",
       "      <th>aspartate aminotransferase</th>\n",
       "      <th>gamma-glutamyl transpeptidase</th>\n",
       "      <th>media de bebidas alchólicas por día</th>\n",
       "      <th>condición del paciente</th>\n",
       "    </tr>\n",
       "  </thead>\n",
       "  <tbody>\n",
       "    <tr>\n",
       "      <th>0</th>\n",
       "      <td>90.0</td>\n",
       "      <td>72.0</td>\n",
       "      <td>17.0</td>\n",
       "      <td>19.0</td>\n",
       "      <td>19.0</td>\n",
       "      <td>6.0</td>\n",
       "      <td>2</td>\n",
       "    </tr>\n",
       "    <tr>\n",
       "      <th>1</th>\n",
       "      <td>94.0</td>\n",
       "      <td>91.0</td>\n",
       "      <td>27.0</td>\n",
       "      <td>20.0</td>\n",
       "      <td>15.0</td>\n",
       "      <td>0.5</td>\n",
       "      <td>1</td>\n",
       "    </tr>\n",
       "    <tr>\n",
       "      <th>2</th>\n",
       "      <td>92.0</td>\n",
       "      <td>79.0</td>\n",
       "      <td>70.0</td>\n",
       "      <td>32.0</td>\n",
       "      <td>84.0</td>\n",
       "      <td>7.0</td>\n",
       "      <td>1</td>\n",
       "    </tr>\n",
       "    <tr>\n",
       "      <th>3</th>\n",
       "      <td>86.0</td>\n",
       "      <td>79.0</td>\n",
       "      <td>28.0</td>\n",
       "      <td>16.0</td>\n",
       "      <td>17.0</td>\n",
       "      <td>0.5</td>\n",
       "      <td>1</td>\n",
       "    </tr>\n",
       "    <tr>\n",
       "      <th>4</th>\n",
       "      <td>87.0</td>\n",
       "      <td>59.0</td>\n",
       "      <td>37.0</td>\n",
       "      <td>27.0</td>\n",
       "      <td>34.0</td>\n",
       "      <td>2.0</td>\n",
       "      <td>2</td>\n",
       "    </tr>\n",
       "  </tbody>\n",
       "</table>\n",
       "</div>"
      ],
      "text/plain": [
       "   media del volúmen corpusculas  fosfatasa alcalina  \\\n",
       "0                           90.0                72.0   \n",
       "1                           94.0                91.0   \n",
       "2                           92.0                79.0   \n",
       "3                           86.0                79.0   \n",
       "4                           87.0                59.0   \n",
       "\n",
       "   alamine aminotransferase  aspartate aminotransferase  \\\n",
       "0                      17.0                        19.0   \n",
       "1                      27.0                        20.0   \n",
       "2                      70.0                        32.0   \n",
       "3                      28.0                        16.0   \n",
       "4                      37.0                        27.0   \n",
       "\n",
       "   gamma-glutamyl transpeptidase  media de bebidas alchólicas por día  \\\n",
       "0                           19.0                                  6.0   \n",
       "1                           15.0                                  0.5   \n",
       "2                           84.0                                  7.0   \n",
       "3                           17.0                                  0.5   \n",
       "4                           34.0                                  2.0   \n",
       "\n",
       "   condición del paciente  \n",
       "0                       2  \n",
       "1                       1  \n",
       "2                       1  \n",
       "3                       1  \n",
       "4                       2  "
      ]
     },
     "execution_count": 9,
     "metadata": {},
     "output_type": "execute_result"
    }
   ],
   "source": [
    "#Datos de prueba\n",
    "x_p= pd.DataFrame(X_test, columns=[\"media del volúmen corpusculas\", \"fosfatasa alcalina\", \n",
    "                                  \"alamine aminotransferase\", \"aspartate aminotransferase\", \n",
    "                                  \"gamma-glutamyl transpeptidase\", \"media de bebidas alchólicas por día\"])\n",
    "y_p= pd.DataFrame(y_test, columns=[\"condición del paciente\"])\n",
    "\n",
    "bupa_prueba = pd.concat([x_p, y_p], axis=1)\n",
    "bupa_prueba.head()"
   ]
  },
  {
   "cell_type": "code",
   "execution_count": 10,
   "metadata": {},
   "outputs": [
    {
     "data": {
      "text/plain": [
       "media del volúmen corpusculas          104\n",
       "fosfatasa alcalina                     104\n",
       "alamine aminotransferase               104\n",
       "aspartate aminotransferase             104\n",
       "gamma-glutamyl transpeptidase          104\n",
       "media de bebidas alchólicas por día    104\n",
       "condición del paciente                 104\n",
       "dtype: int64"
      ]
     },
     "execution_count": 10,
     "metadata": {},
     "output_type": "execute_result"
    }
   ],
   "source": [
    "bupa_prueba.count()"
   ]
  },
  {
   "cell_type": "markdown",
   "metadata": {},
   "source": [
    "____\n",
    "[Ir a inicio](#beginning)"
   ]
  },
  {
   "cell_type": "markdown",
   "metadata": {},
   "source": [
    "<a id='part1'></a>\n",
    "## Discretización"
   ]
  },
  {
   "cell_type": "markdown",
   "metadata": {},
   "source": [
    "Es un método que transforma datos cuantitativos en cualitativos. El proceso de aprendizaje es frecuentemente menos eficiente cuando los datos son solo cuantitativos."
   ]
  },
  {
   "cell_type": "markdown",
   "metadata": {},
   "source": [
    "**Métodos Top-Down:** \n",
    "\n",
    "se inicia con una lista vac´ıa de puntos de corte y se continúan agregando nuevos puntos a la lista ‘’separando” los intervalos mientras la Discretización progresa.\n",
    "\n",
    "**Métodos Bottom-Up:**\n",
    "\n",
    "se inicia con la lista completa de todos los valores continuos de la variable como puntos de corte y se eliminan algunos de ellos ‘’juntando” los intervalos mientras la Discretización\n",
    "progresa."
   ]
  },
  {
   "cell_type": "markdown",
   "metadata": {},
   "source": [
    "También se pueden dividir en:"
   ]
  },
  {
   "cell_type": "markdown",
   "metadata": {},
   "source": [
    "**Discretización Dinámica:** algunos algoritmos de clasificación tienen incorporados mecanismos para discretizar atributos continuos (por ejemplo, árboles de decisión). Los atributos continuos son discretizados durante el proceso de clasificación.\n",
    "\n",
    "**Discretización Estática:** Es un paso más en el preprocesamiento de datos. Los atributos continuos son previamente discretizados antes de la tarea de clasificación.\n",
    "\n",
    "A considerar:\n",
    "\n",
    "- No existe una ventaja clara de algunos de los métodos (Dougherty, Kohavi, and Sahami, 1995).\n",
    "- También es conocido como ‘’Binning”."
   ]
  },
  {
   "cell_type": "markdown",
   "metadata": {},
   "source": [
    "____\n",
    "[Ir a inicio](#beginning)"
   ]
  },
  {
   "cell_type": "markdown",
   "metadata": {},
   "source": [
    "<a id='part2'></a>\n",
    "## Escalado de variables regresoras"
   ]
  },
  {
   "cell_type": "markdown",
   "metadata": {},
   "source": [
    "El **escalado de variables regresoras** es un paso crucial en el preprocesamiento de datos. Los algoritmos de optimización y aprendizaje automático funcionan mucho mejor si las características están en la misma escala."
   ]
  },
  {
   "cell_type": "markdown",
   "metadata": {},
   "source": [
    "**Nota:** los árboles de decisión y random forest son dos de los pocos algoritmos de aprendizaje automático en los cuales no debemos preocuparnos por el escalado de características. "
   ]
  },
  {
   "cell_type": "markdown",
   "metadata": {},
   "source": [
    "##### normalización"
   ]
  },
  {
   "cell_type": "markdown",
   "metadata": {},
   "source": [
    "La normalización se refiere al reescalado de las características en un rango de [0,1], que es un caso especial de **escalado min-max**"
   ]
  },
  {
   "cell_type": "markdown",
   "metadata": {},
   "source": [
    "Para normalizar nuestros datos, podemos sencillamente aplicar el escalado min-max a cada columna de características, donde el nuevo valor $x_{norm}^{(i)}$ de una muestra $x^{(i)}$ puede ser calculado del modo siguiente:"
   ]
  },
  {
   "cell_type": "markdown",
   "metadata": {},
   "source": [
    "\\begin{align*}\n",
    "x_{norm}^{(i)} =  \\frac{x^{(i)}+x_{min}}{x_{max}+x_{min}}\n",
    "\\end{align*}"
   ]
  },
  {
   "cell_type": "markdown",
   "metadata": {},
   "source": [
    "En este caso, $x^{(i)}$ es una muestra concreta, $x_{min}$ es el valor más pequeño en una columna de características, y $x_{max}$ es el valor más grande."
   ]
  },
  {
   "cell_type": "markdown",
   "metadata": {},
   "source": [
    "El procedimiento de escalado min-max está implementado en scikit learn y se puede utilizar del modo siguiente:"
   ]
  },
  {
   "cell_type": "code",
   "execution_count": 11,
   "metadata": {},
   "outputs": [],
   "source": [
    "from sklearn.preprocessing import MinMaxScaler"
   ]
  },
  {
   "cell_type": "code",
   "execution_count": 12,
   "metadata": {},
   "outputs": [
    {
     "data": {
      "text/html": [
       "<div>\n",
       "<style scoped>\n",
       "    .dataframe tbody tr th:only-of-type {\n",
       "        vertical-align: middle;\n",
       "    }\n",
       "\n",
       "    .dataframe tbody tr th {\n",
       "        vertical-align: top;\n",
       "    }\n",
       "\n",
       "    .dataframe thead th {\n",
       "        text-align: right;\n",
       "    }\n",
       "</style>\n",
       "<table border=\"1\" class=\"dataframe\">\n",
       "  <thead>\n",
       "    <tr style=\"text-align: right;\">\n",
       "      <th></th>\n",
       "      <th>media del volúmen corpusculas</th>\n",
       "      <th>fosfatasa alcalina</th>\n",
       "      <th>alamine aminotransferase</th>\n",
       "      <th>aspartate aminotransferase</th>\n",
       "      <th>gamma-glutamyl transpeptidase</th>\n",
       "      <th>media de bebidas alchólicas por día</th>\n",
       "      <th>condición del paciente</th>\n",
       "    </tr>\n",
       "  </thead>\n",
       "  <tbody>\n",
       "    <tr>\n",
       "      <th>0</th>\n",
       "      <td>0.605263</td>\n",
       "      <td>0.860870</td>\n",
       "      <td>0.200000</td>\n",
       "      <td>0.311688</td>\n",
       "      <td>0.126712</td>\n",
       "      <td>0.03125</td>\n",
       "      <td>2</td>\n",
       "    </tr>\n",
       "    <tr>\n",
       "      <th>1</th>\n",
       "      <td>0.578947</td>\n",
       "      <td>0.373913</td>\n",
       "      <td>0.146667</td>\n",
       "      <td>0.220779</td>\n",
       "      <td>0.013699</td>\n",
       "      <td>0.12500</td>\n",
       "      <td>1</td>\n",
       "    </tr>\n",
       "    <tr>\n",
       "      <th>2</th>\n",
       "      <td>0.500000</td>\n",
       "      <td>0.513043</td>\n",
       "      <td>0.106667</td>\n",
       "      <td>0.207792</td>\n",
       "      <td>0.047945</td>\n",
       "      <td>0.03125</td>\n",
       "      <td>2</td>\n",
       "    </tr>\n",
       "    <tr>\n",
       "      <th>3</th>\n",
       "      <td>0.657895</td>\n",
       "      <td>0.382609</td>\n",
       "      <td>0.200000</td>\n",
       "      <td>0.181818</td>\n",
       "      <td>0.102740</td>\n",
       "      <td>0.12500</td>\n",
       "      <td>1</td>\n",
       "    </tr>\n",
       "    <tr>\n",
       "      <th>4</th>\n",
       "      <td>0.447368</td>\n",
       "      <td>0.217391</td>\n",
       "      <td>0.146667</td>\n",
       "      <td>0.129870</td>\n",
       "      <td>0.023973</td>\n",
       "      <td>0.03125</td>\n",
       "      <td>1</td>\n",
       "    </tr>\n",
       "  </tbody>\n",
       "</table>\n",
       "</div>"
      ],
      "text/plain": [
       "   media del volúmen corpusculas  fosfatasa alcalina  \\\n",
       "0                       0.605263            0.860870   \n",
       "1                       0.578947            0.373913   \n",
       "2                       0.500000            0.513043   \n",
       "3                       0.657895            0.382609   \n",
       "4                       0.447368            0.217391   \n",
       "\n",
       "   alamine aminotransferase  aspartate aminotransferase  \\\n",
       "0                  0.200000                    0.311688   \n",
       "1                  0.146667                    0.220779   \n",
       "2                  0.106667                    0.207792   \n",
       "3                  0.200000                    0.181818   \n",
       "4                  0.146667                    0.129870   \n",
       "\n",
       "   gamma-glutamyl transpeptidase  media de bebidas alchólicas por día  \\\n",
       "0                       0.126712                              0.03125   \n",
       "1                       0.013699                              0.12500   \n",
       "2                       0.047945                              0.03125   \n",
       "3                       0.102740                              0.12500   \n",
       "4                       0.023973                              0.03125   \n",
       "\n",
       "   condición del paciente  \n",
       "0                       2  \n",
       "1                       1  \n",
       "2                       2  \n",
       "3                       1  \n",
       "4                       1  "
      ]
     },
     "execution_count": 12,
     "metadata": {},
     "output_type": "execute_result"
    }
   ],
   "source": [
    "#Datos de entrenamiento\n",
    "mms = MinMaxScaler()\n",
    "x_train_norm = mms.fit_transform(bupa_entrenamiento.iloc[:, 0:6])\n",
    "x_t_norm= pd.DataFrame(x_train_norm, columns=[\"media del volúmen corpusculas\", \n",
    "                                              \"fosfatasa alcalina\", \"alamine aminotransferase\",\n",
    "                                              \"aspartate aminotransferase\", \n",
    "                                              \"gamma-glutamyl transpeptidase\", \n",
    "                                              \"media de bebidas alchólicas por día\"])\n",
    "bupa_entrenamiento_norm = pd.concat([x_t_norm, bupa_entrenamiento.iloc[:,6]], axis=1)\n",
    "bupa_entrenamiento_norm.head()"
   ]
  },
  {
   "cell_type": "code",
   "execution_count": 13,
   "metadata": {},
   "outputs": [
    {
     "data": {
      "text/html": [
       "<div>\n",
       "<style scoped>\n",
       "    .dataframe tbody tr th:only-of-type {\n",
       "        vertical-align: middle;\n",
       "    }\n",
       "\n",
       "    .dataframe tbody tr th {\n",
       "        vertical-align: top;\n",
       "    }\n",
       "\n",
       "    .dataframe thead th {\n",
       "        text-align: right;\n",
       "    }\n",
       "</style>\n",
       "<table border=\"1\" class=\"dataframe\">\n",
       "  <thead>\n",
       "    <tr style=\"text-align: right;\">\n",
       "      <th></th>\n",
       "      <th>media del volúmen corpusculas</th>\n",
       "      <th>fosfatasa alcalina</th>\n",
       "      <th>alamine aminotransferase</th>\n",
       "      <th>aspartate aminotransferase</th>\n",
       "      <th>gamma-glutamyl transpeptidase</th>\n",
       "      <th>media de bebidas alchólicas por día</th>\n",
       "      <th>condición del paciente</th>\n",
       "    </tr>\n",
       "  </thead>\n",
       "  <tbody>\n",
       "    <tr>\n",
       "      <th>0</th>\n",
       "      <td>0.40</td>\n",
       "      <td>0.420455</td>\n",
       "      <td>0.160494</td>\n",
       "      <td>0.157143</td>\n",
       "      <td>0.070707</td>\n",
       "      <td>0.300</td>\n",
       "      <td>2</td>\n",
       "    </tr>\n",
       "    <tr>\n",
       "      <th>1</th>\n",
       "      <td>0.60</td>\n",
       "      <td>0.636364</td>\n",
       "      <td>0.283951</td>\n",
       "      <td>0.171429</td>\n",
       "      <td>0.050505</td>\n",
       "      <td>0.025</td>\n",
       "      <td>1</td>\n",
       "    </tr>\n",
       "    <tr>\n",
       "      <th>2</th>\n",
       "      <td>0.50</td>\n",
       "      <td>0.500000</td>\n",
       "      <td>0.814815</td>\n",
       "      <td>0.342857</td>\n",
       "      <td>0.398990</td>\n",
       "      <td>0.350</td>\n",
       "      <td>1</td>\n",
       "    </tr>\n",
       "    <tr>\n",
       "      <th>3</th>\n",
       "      <td>0.20</td>\n",
       "      <td>0.500000</td>\n",
       "      <td>0.296296</td>\n",
       "      <td>0.114286</td>\n",
       "      <td>0.060606</td>\n",
       "      <td>0.025</td>\n",
       "      <td>1</td>\n",
       "    </tr>\n",
       "    <tr>\n",
       "      <th>4</th>\n",
       "      <td>0.25</td>\n",
       "      <td>0.272727</td>\n",
       "      <td>0.407407</td>\n",
       "      <td>0.271429</td>\n",
       "      <td>0.146465</td>\n",
       "      <td>0.100</td>\n",
       "      <td>2</td>\n",
       "    </tr>\n",
       "  </tbody>\n",
       "</table>\n",
       "</div>"
      ],
      "text/plain": [
       "   media del volúmen corpusculas  fosfatasa alcalina  \\\n",
       "0                           0.40            0.420455   \n",
       "1                           0.60            0.636364   \n",
       "2                           0.50            0.500000   \n",
       "3                           0.20            0.500000   \n",
       "4                           0.25            0.272727   \n",
       "\n",
       "   alamine aminotransferase  aspartate aminotransferase  \\\n",
       "0                  0.160494                    0.157143   \n",
       "1                  0.283951                    0.171429   \n",
       "2                  0.814815                    0.342857   \n",
       "3                  0.296296                    0.114286   \n",
       "4                  0.407407                    0.271429   \n",
       "\n",
       "   gamma-glutamyl transpeptidase  media de bebidas alchólicas por día  \\\n",
       "0                       0.070707                                0.300   \n",
       "1                       0.050505                                0.025   \n",
       "2                       0.398990                                0.350   \n",
       "3                       0.060606                                0.025   \n",
       "4                       0.146465                                0.100   \n",
       "\n",
       "   condición del paciente  \n",
       "0                       2  \n",
       "1                       1  \n",
       "2                       1  \n",
       "3                       1  \n",
       "4                       2  "
      ]
     },
     "execution_count": 13,
     "metadata": {},
     "output_type": "execute_result"
    }
   ],
   "source": [
    "#Datos de prueba\n",
    "mms = MinMaxScaler()\n",
    "x_test_norm = mms.fit_transform(bupa_prueba.iloc[:, 0:6])\n",
    "x_test_norm= pd.DataFrame(x_test_norm, columns=[\"media del volúmen corpusculas\", \n",
    "                                              \"fosfatasa alcalina\", \"alamine aminotransferase\",\n",
    "                                              \"aspartate aminotransferase\", \n",
    "                                              \"gamma-glutamyl transpeptidase\", \n",
    "                                              \"media de bebidas alchólicas por día\"])\n",
    "bupa_prueba_norm = pd.concat([x_test_norm, bupa_prueba.iloc[:,6]], axis=1)\n",
    "bupa_prueba_norm.head()"
   ]
  },
  {
   "cell_type": "markdown",
   "metadata": {},
   "source": [
    "##### Estandarización"
   ]
  },
  {
   "cell_type": "markdown",
   "metadata": {},
   "source": [
    "Aunque la normalización mediante min-max es una técnica muy frecuente cuando necesitamos valores en un intervalo limitado, la **estandarización** puede ser más práctica para los algoritmos de Machine Learning, especialmente para algoritmos de optimización como el descenso del gradiente. La razón es que muchos modelos, como la **regresión logística** y las **máquinas de vectores de soporte** inicializan los pesos a 0 o valores más pequeños cercanos a 0. Mediante la **estadarización**, centramos las columnas de características a una media con una desviación estándar de 1, por lo que las columnas de características toman la forma de una distribución normal, lo que hace más fácil aprender los pesos. Además, la estandarización mantiene información útil sobre **outliers** y hace que el algoritmo sea más sencible a ellos en comparación con el escalado min-max, que escala los datos a un rango limitado de valores."
   ]
  },
  {
   "cell_type": "markdown",
   "metadata": {},
   "source": [
    "El procedimiento para la **estandarización** puede ser expresado mediante la ecuación:"
   ]
  },
  {
   "cell_type": "markdown",
   "metadata": {},
   "source": [
    "\\begin{align*}\n",
    "x_{std}^{(i)} =  \\frac{x^{(i)}+\\mu_x}{\\sigma_x}\n",
    "\\end{align*}"
   ]
  },
  {
   "cell_type": "markdown",
   "metadata": {},
   "source": [
    "Aquí, $\\mu_x$ es la muestra media de una columna de características concreta y $\\sigma_x$, es la correspondiente desviación estándar."
   ]
  },
  {
   "cell_type": "code",
   "execution_count": 14,
   "metadata": {},
   "outputs": [],
   "source": [
    "from sklearn.preprocessing import StandardScaler"
   ]
  },
  {
   "cell_type": "code",
   "execution_count": 15,
   "metadata": {},
   "outputs": [
    {
     "data": {
      "text/html": [
       "<div>\n",
       "<style scoped>\n",
       "    .dataframe tbody tr th:only-of-type {\n",
       "        vertical-align: middle;\n",
       "    }\n",
       "\n",
       "    .dataframe tbody tr th {\n",
       "        vertical-align: top;\n",
       "    }\n",
       "\n",
       "    .dataframe thead th {\n",
       "        text-align: right;\n",
       "    }\n",
       "</style>\n",
       "<table border=\"1\" class=\"dataframe\">\n",
       "  <thead>\n",
       "    <tr style=\"text-align: right;\">\n",
       "      <th></th>\n",
       "      <th>media del volúmen corpusculas</th>\n",
       "      <th>fosfatasa alcalina</th>\n",
       "      <th>alamine aminotransferase</th>\n",
       "      <th>aspartate aminotransferase</th>\n",
       "      <th>gamma-glutamyl transpeptidase</th>\n",
       "      <th>media de bebidas alchólicas por día</th>\n",
       "      <th>condición del paciente</th>\n",
       "    </tr>\n",
       "  </thead>\n",
       "  <tbody>\n",
       "    <tr>\n",
       "      <th>0</th>\n",
       "      <td>-0.456074</td>\n",
       "      <td>2.847468</td>\n",
       "      <td>0.211006</td>\n",
       "      <td>0.472355</td>\n",
       "      <td>0.137783</td>\n",
       "      <td>-0.907918</td>\n",
       "      <td>2</td>\n",
       "    </tr>\n",
       "    <tr>\n",
       "      <th>1</th>\n",
       "      <td>-0.674591</td>\n",
       "      <td>-0.185875</td>\n",
       "      <td>-0.177923</td>\n",
       "      <td>-0.242320</td>\n",
       "      <td>-0.755278</td>\n",
       "      <td>-0.414365</td>\n",
       "      <td>1</td>\n",
       "    </tr>\n",
       "    <tr>\n",
       "      <th>2</th>\n",
       "      <td>-1.330141</td>\n",
       "      <td>0.680794</td>\n",
       "      <td>-0.469620</td>\n",
       "      <td>-0.344417</td>\n",
       "      <td>-0.484654</td>\n",
       "      <td>-0.907918</td>\n",
       "      <td>2</td>\n",
       "    </tr>\n",
       "    <tr>\n",
       "      <th>3</th>\n",
       "      <td>-0.019041</td>\n",
       "      <td>-0.131709</td>\n",
       "      <td>0.211006</td>\n",
       "      <td>-0.548610</td>\n",
       "      <td>-0.051654</td>\n",
       "      <td>-0.414365</td>\n",
       "      <td>1</td>\n",
       "    </tr>\n",
       "    <tr>\n",
       "      <th>4</th>\n",
       "      <td>-1.767174</td>\n",
       "      <td>-1.160879</td>\n",
       "      <td>-0.177923</td>\n",
       "      <td>-0.956996</td>\n",
       "      <td>-0.674091</td>\n",
       "      <td>-0.907918</td>\n",
       "      <td>1</td>\n",
       "    </tr>\n",
       "  </tbody>\n",
       "</table>\n",
       "</div>"
      ],
      "text/plain": [
       "   media del volúmen corpusculas  fosfatasa alcalina  \\\n",
       "0                      -0.456074            2.847468   \n",
       "1                      -0.674591           -0.185875   \n",
       "2                      -1.330141            0.680794   \n",
       "3                      -0.019041           -0.131709   \n",
       "4                      -1.767174           -1.160879   \n",
       "\n",
       "   alamine aminotransferase  aspartate aminotransferase  \\\n",
       "0                  0.211006                    0.472355   \n",
       "1                 -0.177923                   -0.242320   \n",
       "2                 -0.469620                   -0.344417   \n",
       "3                  0.211006                   -0.548610   \n",
       "4                 -0.177923                   -0.956996   \n",
       "\n",
       "   gamma-glutamyl transpeptidase  media de bebidas alchólicas por día  \\\n",
       "0                       0.137783                            -0.907918   \n",
       "1                      -0.755278                            -0.414365   \n",
       "2                      -0.484654                            -0.907918   \n",
       "3                      -0.051654                            -0.414365   \n",
       "4                      -0.674091                            -0.907918   \n",
       "\n",
       "   condición del paciente  \n",
       "0                       2  \n",
       "1                       1  \n",
       "2                       2  \n",
       "3                       1  \n",
       "4                       1  "
      ]
     },
     "execution_count": 15,
     "metadata": {},
     "output_type": "execute_result"
    }
   ],
   "source": [
    "#Datos de entrenamiento\n",
    "stdsc = StandardScaler()\n",
    "X_train_std = stdsc.fit_transform(bupa_entrenamiento.iloc[:, 0:6])\n",
    "x_train_std= pd.DataFrame(X_train_std, columns=[\"media del volúmen corpusculas\", \n",
    "                                              \"fosfatasa alcalina\", \"alamine aminotransferase\",\n",
    "                                              \"aspartate aminotransferase\", \n",
    "                                              \"gamma-glutamyl transpeptidase\", \n",
    "                                              \"media de bebidas alchólicas por día\"])\n",
    "bupa_entrenamiento_std = pd.concat([x_train_std, bupa_entrenamiento.iloc[:,6]], axis=1)\n",
    "bupa_entrenamiento_std.head()"
   ]
  },
  {
   "cell_type": "code",
   "execution_count": 16,
   "metadata": {},
   "outputs": [
    {
     "data": {
      "text/html": [
       "<div>\n",
       "<style scoped>\n",
       "    .dataframe tbody tr th:only-of-type {\n",
       "        vertical-align: middle;\n",
       "    }\n",
       "\n",
       "    .dataframe tbody tr th {\n",
       "        vertical-align: top;\n",
       "    }\n",
       "\n",
       "    .dataframe thead th {\n",
       "        text-align: right;\n",
       "    }\n",
       "</style>\n",
       "<table border=\"1\" class=\"dataframe\">\n",
       "  <thead>\n",
       "    <tr style=\"text-align: right;\">\n",
       "      <th></th>\n",
       "      <th>media del volúmen corpusculas</th>\n",
       "      <th>fosfatasa alcalina</th>\n",
       "      <th>alamine aminotransferase</th>\n",
       "      <th>aspartate aminotransferase</th>\n",
       "      <th>gamma-glutamyl transpeptidase</th>\n",
       "      <th>media de bebidas alchólicas por día</th>\n",
       "      <th>condición del paciente</th>\n",
       "    </tr>\n",
       "  </thead>\n",
       "  <tbody>\n",
       "    <tr>\n",
       "      <th>0</th>\n",
       "      <td>-0.079586</td>\n",
       "      <td>0.062137</td>\n",
       "      <td>-0.768180</td>\n",
       "      <td>-0.591918</td>\n",
       "      <td>-0.513063</td>\n",
       "      <td>0.537255</td>\n",
       "      <td>2</td>\n",
       "    </tr>\n",
       "    <tr>\n",
       "      <th>1</th>\n",
       "      <td>0.894175</td>\n",
       "      <td>1.120608</td>\n",
       "      <td>-0.168850</td>\n",
       "      <td>-0.497501</td>\n",
       "      <td>-0.604391</td>\n",
       "      <td>-0.875664</td>\n",
       "      <td>1</td>\n",
       "    </tr>\n",
       "    <tr>\n",
       "      <th>2</th>\n",
       "      <td>0.407294</td>\n",
       "      <td>0.452100</td>\n",
       "      <td>2.408269</td>\n",
       "      <td>0.635494</td>\n",
       "      <td>0.971022</td>\n",
       "      <td>0.794150</td>\n",
       "      <td>1</td>\n",
       "    </tr>\n",
       "    <tr>\n",
       "      <th>3</th>\n",
       "      <td>-1.053347</td>\n",
       "      <td>0.452100</td>\n",
       "      <td>-0.108917</td>\n",
       "      <td>-0.875167</td>\n",
       "      <td>-0.558727</td>\n",
       "      <td>-0.875664</td>\n",
       "      <td>1</td>\n",
       "    </tr>\n",
       "    <tr>\n",
       "      <th>4</th>\n",
       "      <td>-0.809907</td>\n",
       "      <td>-0.662080</td>\n",
       "      <td>0.430480</td>\n",
       "      <td>0.163413</td>\n",
       "      <td>-0.170582</td>\n",
       "      <td>-0.490323</td>\n",
       "      <td>2</td>\n",
       "    </tr>\n",
       "  </tbody>\n",
       "</table>\n",
       "</div>"
      ],
      "text/plain": [
       "   media del volúmen corpusculas  fosfatasa alcalina  \\\n",
       "0                      -0.079586            0.062137   \n",
       "1                       0.894175            1.120608   \n",
       "2                       0.407294            0.452100   \n",
       "3                      -1.053347            0.452100   \n",
       "4                      -0.809907           -0.662080   \n",
       "\n",
       "   alamine aminotransferase  aspartate aminotransferase  \\\n",
       "0                 -0.768180                   -0.591918   \n",
       "1                 -0.168850                   -0.497501   \n",
       "2                  2.408269                    0.635494   \n",
       "3                 -0.108917                   -0.875167   \n",
       "4                  0.430480                    0.163413   \n",
       "\n",
       "   gamma-glutamyl transpeptidase  media de bebidas alchólicas por día  \\\n",
       "0                      -0.513063                             0.537255   \n",
       "1                      -0.604391                            -0.875664   \n",
       "2                       0.971022                             0.794150   \n",
       "3                      -0.558727                            -0.875664   \n",
       "4                      -0.170582                            -0.490323   \n",
       "\n",
       "   condición del paciente  \n",
       "0                       2  \n",
       "1                       1  \n",
       "2                       1  \n",
       "3                       1  \n",
       "4                       2  "
      ]
     },
     "execution_count": 16,
     "metadata": {},
     "output_type": "execute_result"
    }
   ],
   "source": [
    "#Datos de prueba\n",
    "stdsc = StandardScaler()\n",
    "X_test_std = stdsc.fit_transform(bupa_prueba.iloc[:, 0:6])\n",
    "X_test_std= pd.DataFrame(X_test_std, columns=[\"media del volúmen corpusculas\", \n",
    "                                              \"fosfatasa alcalina\", \"alamine aminotransferase\",\n",
    "                                              \"aspartate aminotransferase\", \n",
    "                                              \"gamma-glutamyl transpeptidase\", \n",
    "                                              \"media de bebidas alchólicas por día\"])\n",
    "bupa_prueba_std = pd.concat([X_test_std, bupa_prueba.iloc[:,6]], axis=1)\n",
    "bupa_prueba_std.head()"
   ]
  },
  {
   "cell_type": "markdown",
   "metadata": {},
   "source": [
    "La siguiente sintaxis muestra la diferencia entre las dos técnicas de escalado de características que más se utilizan, **estandarización** y **normalización**, en un sencillo ejemplo:"
   ]
  },
  {
   "cell_type": "code",
   "execution_count": 17,
   "metadata": {},
   "outputs": [],
   "source": [
    "import numpy as np"
   ]
  },
  {
   "cell_type": "code",
   "execution_count": 18,
   "metadata": {},
   "outputs": [
    {
     "name": "stdout",
     "output_type": "stream",
     "text": [
      "estandarización: [-1.46385011 -0.87831007 -0.29277002  0.29277002  0.87831007  1.46385011]\n",
      "normalización: [0.  0.2 0.4 0.6 0.8 1. ]\n"
     ]
    }
   ],
   "source": [
    "ej = np.array([0, 1, 2, 3, 4, 5])\n",
    "\n",
    "print('estandarización:', (ej - ej.mean()) / ej.std())\n",
    "\n",
    "# Please note that pandas uses ddof=1 (sample standard deviation) \n",
    "# by default, whereas NumPy's std method and the StandardScaler\n",
    "# uses ddof=0 (population standard deviation)\n",
    "\n",
    "# normalize\n",
    "print('normalización:', (ej - ej.min()) / (ej.max() - ej.min()))"
   ]
  },
  {
   "cell_type": "markdown",
   "metadata": {},
   "source": [
    "____\n",
    "[Ir a inicio](#beginning)"
   ]
  },
  {
   "cell_type": "markdown",
   "metadata": {},
   "source": [
    "<a id='part3'></a>\n",
    "## Discretización por intervalos de igual amplitud"
   ]
  },
  {
   "cell_type": "markdown",
   "metadata": {},
   "source": [
    "##### kbins: Sturges"
   ]
  },
  {
   "cell_type": "code",
   "execution_count": 19,
   "metadata": {},
   "outputs": [],
   "source": [
    "from sklearn.preprocessing import KBinsDiscretizer\n",
    "import math"
   ]
  },
  {
   "cell_type": "code",
   "execution_count": 20,
   "metadata": {},
   "outputs": [
    {
     "data": {
      "text/plain": [
       "9.0"
      ]
     },
     "execution_count": 20,
     "metadata": {},
     "output_type": "execute_result"
    }
   ],
   "source": [
    "n = len(bupa_entrenamiento)\n",
    "k = 1 + math.log2(n)\n",
    "k=round(k,0)\n",
    "k"
   ]
  },
  {
   "cell_type": "markdown",
   "metadata": {},
   "source": [
    "##### Proceso:"
   ]
  },
  {
   "cell_type": "markdown",
   "metadata": {},
   "source": [
    "- Es similar a la elaboración de tablas de frecuencia y de contingencia.\n",
    "- Se divide el rango de la variable en k intervalos de igual tamaño.\n",
    "- k es determinado por alguna regla, para la aplicación consideramos sturges."
   ]
  },
  {
   "cell_type": "markdown",
   "metadata": {},
   "source": [
    "**Desventajas:** No supervisado. Sensible a outliers.\n",
    "\n",
    "**Ventajas:** Fácil de implementar. Produce una abstracción de los datos razonable."
   ]
  },
  {
   "cell_type": "code",
   "execution_count": 21,
   "metadata": {},
   "outputs": [],
   "source": [
    "est = KBinsDiscretizer(n_bins=9, encode='ordinal', strategy=\"uniform\")"
   ]
  },
  {
   "cell_type": "code",
   "execution_count": 56,
   "metadata": {},
   "outputs": [],
   "source": [
    "nuevo = est.fit_transform(bupa_entrenamiento[['media del volúmen corpusculas']])"
   ]
  },
  {
   "cell_type": "code",
   "execution_count": 57,
   "metadata": {},
   "outputs": [
    {
     "data": {
      "text/plain": [
       "<matplotlib.axes._subplots.AxesSubplot at 0x1e7cb2b9908>"
      ]
     },
     "execution_count": 57,
     "metadata": {},
     "output_type": "execute_result"
    },
    {
     "data": {
      "image/png": "[encoded data removed]",
      "text/plain": [
       "<Figure size 432x288 with 1 Axes>"
      ]
     },
     "metadata": {
      "needs_background": "light"
     },
     "output_type": "display_data"
    }
   ],
   "source": [
    "xs = pd.DataFrame(nuevo)\n",
    "xs.columns = ['corpusculas']\n",
    "xs.groupby('corpusculas').size().plot(kind='bar')"
   ]
  },
  {
   "cell_type": "markdown",
   "metadata": {},
   "source": [
    "____\n",
    "[Ir a inicio](#beginning)"
   ]
  },
  {
   "cell_type": "markdown",
   "metadata": {},
   "source": [
    "<a id='part4'></a>\n",
    "## Discretización Cuantil"
   ]
  },
  {
   "cell_type": "markdown",
   "metadata": {},
   "source": [
    "##### Proceso:"
   ]
  },
  {
   "cell_type": "markdown",
   "metadata": {},
   "source": [
    "- Se debe dividir el rango en k intervalos.\n",
    "- Para la construcción de los intervalos se debe tener en cuenta la discretización por cuantil.\n",
    "- No se utiliza la información de la clase."
   ]
  },
  {
   "cell_type": "code",
   "execution_count": 37,
   "metadata": {},
   "outputs": [],
   "source": [
    "from sklearn.preprocessing import KBinsDiscretizer"
   ]
  },
  {
   "cell_type": "code",
   "execution_count": 52,
   "metadata": {},
   "outputs": [],
   "source": [
    "estq = KBinsDiscretizer(n_bins=4, encode='ordinal', strategy='quantile')"
   ]
  },
  {
   "cell_type": "code",
   "execution_count": 53,
   "metadata": {},
   "outputs": [],
   "source": [
    "nuevoq = estq.fit_transform(bupa_entrenamiento[['media del volúmen corpusculas']])"
   ]
  },
  {
   "cell_type": "code",
   "execution_count": 55,
   "metadata": {},
   "outputs": [
    {
     "data": {
      "text/plain": [
       "<matplotlib.axes._subplots.AxesSubplot at 0x1e7cb24d710>"
      ]
     },
     "execution_count": 55,
     "metadata": {},
     "output_type": "execute_result"
    },
    {
     "data": {
      "image/png": "[encoded data removed]",
      "text/plain": [
       "<Figure size 432x288 with 1 Axes>"
      ]
     },
     "metadata": {
      "needs_background": "light"
     },
     "output_type": "display_data"
    }
   ],
   "source": [
    "xq = pd.DataFrame(nuevoq)\n",
    "xq.columns = ['corpusculas']\n",
    "xq.groupby('corpusculas').size().plot(kind='bar')"
   ]
  },
  {
   "cell_type": "markdown",
   "metadata": {},
   "source": [
    "____\n",
    "[Ir a inicio](#beginning)"
   ]
  },
  {
   "cell_type": "markdown",
   "metadata": {},
   "source": [
    "<a id='part5'></a>\n",
    "## Discretización por kmeans"
   ]
  },
  {
   "cell_type": "code",
   "execution_count": 47,
   "metadata": {},
   "outputs": [],
   "source": [
    "from sklearn.preprocessing import KBinsDiscretizer"
   ]
  },
  {
   "cell_type": "code",
   "execution_count": 48,
   "metadata": {},
   "outputs": [],
   "source": [
    "estkmeas = KBinsDiscretizer(n_bins=4, encode='ordinal', strategy='kmeans')"
   ]
  },
  {
   "cell_type": "code",
   "execution_count": 49,
   "metadata": {},
   "outputs": [],
   "source": [
    "nuevokmeas = estkmeas.fit_transform(bupa_entrenamiento[['media del volúmen corpusculas']])"
   ]
  },
  {
   "cell_type": "code",
   "execution_count": 51,
   "metadata": {},
   "outputs": [
    {
     "data": {
      "text/plain": [
       "<matplotlib.axes._subplots.AxesSubplot at 0x1e7cb1966d8>"
      ]
     },
     "execution_count": 51,
     "metadata": {},
     "output_type": "execute_result"
    },
    {
     "data": {
      "image/png": "[encoded data removed]",
      "text/plain": [
       "<Figure size 432x288 with 1 Axes>"
      ]
     },
     "metadata": {
      "needs_background": "light"
     },
     "output_type": "display_data"
    }
   ],
   "source": [
    "xkmeans = pd.DataFrame(nuevokmeas)\n",
    "xkmeans.columns = ['corpusculas']\n",
    "xkmeans.groupby('corpusculas').size().plot(kind='bar')"
   ]
  },
  {
   "cell_type": "markdown",
   "metadata": {},
   "source": [
    "____\n",
    "[Ir a inicio](#beginning)"
   ]
  }
 ],
 "metadata": {
  "kernelspec": {
   "display_name": "Python 3",
   "language": "python",
   "name": "python3"
  },
  "language_info": {
   "codemirror_mode": {
    "name": "ipython",
    "version": 3
   },
   "file_extension": ".py",
   "mimetype": "text/x-python",
   "name": "python",
   "nbconvert_exporter": "python",
   "pygments_lexer": "ipython3",
   "version": "3.7.3"
  }
 },
 "nbformat": 4,
 "nbformat_minor": 2
}
