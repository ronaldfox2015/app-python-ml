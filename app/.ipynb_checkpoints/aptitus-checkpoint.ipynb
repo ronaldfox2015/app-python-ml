{
 "cells": [
  {
   "cell_type": "code",
   "execution_count": 10,
   "metadata": {
    "scrolled": true
   },
   "outputs": [
    {
     "name": "stdout",
     "output_type": "stream",
     "text": [
      "Requirement already satisfied: mysql-connector-python==8.0.11 in /home/ronald/anaconda3/lib/python3.7/site-packages (8.0.11)\n",
      "Requirement already satisfied: protobuf>=3.0.0 in /home/ronald/anaconda3/lib/python3.7/site-packages (from mysql-connector-python==8.0.11) (3.10.0)\n",
      "Requirement already satisfied: setuptools in /home/ronald/anaconda3/lib/python3.7/site-packages (from protobuf>=3.0.0->mysql-connector-python==8.0.11) (40.8.0)\n",
      "Requirement already satisfied: six>=1.9 in /home/ronald/anaconda3/lib/python3.7/site-packages (from protobuf>=3.0.0->mysql-connector-python==8.0.11) (1.12.0)\n",
      "Note: you may need to restart the kernel to use updated packages.\n"
     ]
    }
   ],
   "source": [
    "pip install mysql-connector-python==8.0.11\n"
   ]
  },
  {
   "cell_type": "code",
   "execution_count": 12,
   "metadata": {
    "scrolled": false
   },
   "outputs": [
    {
     "name": "stdout",
     "output_type": "stream",
     "text": [
      "Requirement already satisfied: psycopg2 in /home/ronald/anaconda3/lib/python3.7/site-packages (2.8.3)\n",
      "Note: you may need to restart the kernel to use updated packages.\n"
     ]
    }
   ],
   "source": [
    "pip install psycopg2"
   ]
  },
  {
   "cell_type": "code",
   "execution_count": null,
   "metadata": {},
   "outputs": [],
   "source": [
    "import psycopg2\n",
    "import pandas as pd\n",
    "con = psycopg2.connect(\"dbname=aptitus user=root password=1234 host=192.168.1.60\")"
   ]
  },
  {
   "cell_type": "code",
   "execution_count": null,
   "metadata": {},
   "outputs": [],
   "source": []
  }
 ],
 "metadata": {
  "kernelspec": {
   "display_name": "Python 3",
   "language": "python",
   "name": "python3"
  },
  "language_info": {
   "codemirror_mode": {
    "name": "ipython",
    "version": 3
   },
   "file_extension": ".py",
   "mimetype": "text/x-python",
   "name": "python",
   "nbconvert_exporter": "python",
   "pygments_lexer": "ipython3",
   "version": "3.7.3"
  }
 },
 "nbformat": 4,
 "nbformat_minor": 2
}
