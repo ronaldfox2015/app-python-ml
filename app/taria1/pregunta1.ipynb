{
 "cells": [
  {
   "cell_type": "code",
   "execution_count": 182,
   "metadata": {},
   "outputs": [],
   "source": [
    "import json\n",
    "import pandas as pd\n",
    "import os\n",
    "import numpy as np\n",
    "import matplotlib.pyplot as plt\n"
   ]
  },
  {
   "cell_type": "code",
   "execution_count": 183,
   "metadata": {
    "scrolled": true
   },
   "outputs": [
    {
     "data": {
      "text/html": [
       "<div>\n",
       "<style scoped>\n",
       "    .dataframe tbody tr th:only-of-type {\n",
       "        vertical-align: middle;\n",
       "    }\n",
       "\n",
       "    .dataframe tbody tr th {\n",
       "        vertical-align: top;\n",
       "    }\n",
       "\n",
       "    .dataframe thead th {\n",
       "        text-align: right;\n",
       "    }\n",
       "</style>\n",
       "<table border=\"1\" class=\"dataframe\">\n",
       "  <thead>\n",
       "    <tr style=\"text-align: right;\">\n",
       "      <th></th>\n",
       "      <th>Unnamed: 0</th>\n",
       "      <th>CODMES</th>\n",
       "      <th>TARGET_MODEL2</th>\n",
       "      <th>EDAD</th>\n",
       "      <th>SEXO</th>\n",
       "      <th>DEPARTAMENTO</th>\n",
       "      <th>INGRESO_BRUTO_M1</th>\n",
       "      <th>FLG_CLIENTE</th>\n",
       "      <th>SEGMENTO</th>\n",
       "      <th>FLG_ADEL_SUELDO_M1</th>\n",
       "      <th>FREC_AGENTE</th>\n",
       "      <th>FLG_VEH_SF</th>\n",
       "      <th>FLG_CONV_SF</th>\n",
       "      <th>FREC_KIOSKO</th>\n",
       "      <th>FREC_BPI_TD</th>\n",
       "      <th>FREC_MON_TD</th>\n",
       "      <th>PROM_CTD_TRX_6M</th>\n",
       "      <th>ANT_CLIENTE</th>\n",
       "      <th>REC_AGENTE_TD</th>\n",
       "      <th>CTD_RECLAMOS_M1</th>\n",
       "    </tr>\n",
       "  </thead>\n",
       "  <tbody>\n",
       "    <tr>\n",
       "      <th>0</th>\n",
       "      <td>1</td>\n",
       "      <td>201411</td>\n",
       "      <td>0</td>\n",
       "      <td>46</td>\n",
       "      <td>F</td>\n",
       "      <td>PIURA</td>\n",
       "      <td>NaN</td>\n",
       "      <td>NO CLIENTE</td>\n",
       "      <td>2</td>\n",
       "      <td>0</td>\n",
       "      <td>0</td>\n",
       "      <td>0.0</td>\n",
       "      <td>0.0</td>\n",
       "      <td>0</td>\n",
       "      <td>0</td>\n",
       "      <td>0</td>\n",
       "      <td>0.000000</td>\n",
       "      <td>224</td>\n",
       "      <td>NaN</td>\n",
       "      <td>0</td>\n",
       "    </tr>\n",
       "    <tr>\n",
       "      <th>1</th>\n",
       "      <td>2</td>\n",
       "      <td>201411</td>\n",
       "      <td>0</td>\n",
       "      <td>54</td>\n",
       "      <td>M</td>\n",
       "      <td>LORETO</td>\n",
       "      <td>4718.0</td>\n",
       "      <td>CLIENTE</td>\n",
       "      <td>1BC</td>\n",
       "      <td>0</td>\n",
       "      <td>0</td>\n",
       "      <td>0.0</td>\n",
       "      <td>1.0</td>\n",
       "      <td>0</td>\n",
       "      <td>0</td>\n",
       "      <td>0</td>\n",
       "      <td>0.000000</td>\n",
       "      <td>123</td>\n",
       "      <td>NaN</td>\n",
       "      <td>0</td>\n",
       "    </tr>\n",
       "    <tr>\n",
       "      <th>2</th>\n",
       "      <td>3</td>\n",
       "      <td>201411</td>\n",
       "      <td>0</td>\n",
       "      <td>81</td>\n",
       "      <td>M</td>\n",
       "      <td>NaN</td>\n",
       "      <td>NaN</td>\n",
       "      <td>CLIENTE</td>\n",
       "      <td>6</td>\n",
       "      <td>0</td>\n",
       "      <td>0</td>\n",
       "      <td>NaN</td>\n",
       "      <td>NaN</td>\n",
       "      <td>0</td>\n",
       "      <td>0</td>\n",
       "      <td>0</td>\n",
       "      <td>0.000000</td>\n",
       "      <td>264</td>\n",
       "      <td>NaN</td>\n",
       "      <td>0</td>\n",
       "    </tr>\n",
       "    <tr>\n",
       "      <th>3</th>\n",
       "      <td>4</td>\n",
       "      <td>201411</td>\n",
       "      <td>0</td>\n",
       "      <td>42</td>\n",
       "      <td>M</td>\n",
       "      <td>PIURA</td>\n",
       "      <td>936.0</td>\n",
       "      <td>CLIENTE</td>\n",
       "      <td>2</td>\n",
       "      <td>0</td>\n",
       "      <td>0</td>\n",
       "      <td>NaN</td>\n",
       "      <td>NaN</td>\n",
       "      <td>0</td>\n",
       "      <td>0</td>\n",
       "      <td>0</td>\n",
       "      <td>0.000000</td>\n",
       "      <td>263</td>\n",
       "      <td>NaN</td>\n",
       "      <td>0</td>\n",
       "    </tr>\n",
       "    <tr>\n",
       "      <th>4</th>\n",
       "      <td>5</td>\n",
       "      <td>201411</td>\n",
       "      <td>0</td>\n",
       "      <td>52</td>\n",
       "      <td>M</td>\n",
       "      <td>MOQUEGUA</td>\n",
       "      <td>5844.0</td>\n",
       "      <td>CLIENTE</td>\n",
       "      <td>1BC</td>\n",
       "      <td>0</td>\n",
       "      <td>0</td>\n",
       "      <td>NaN</td>\n",
       "      <td>NaN</td>\n",
       "      <td>0</td>\n",
       "      <td>0</td>\n",
       "      <td>0</td>\n",
       "      <td>0.000000</td>\n",
       "      <td>263</td>\n",
       "      <td>NaN</td>\n",
       "      <td>0</td>\n",
       "    </tr>\n",
       "    <tr>\n",
       "      <th>5</th>\n",
       "      <td>6</td>\n",
       "      <td>201411</td>\n",
       "      <td>0</td>\n",
       "      <td>74</td>\n",
       "      <td>M</td>\n",
       "      <td>LA LIBERTAD</td>\n",
       "      <td>NaN</td>\n",
       "      <td>CLIENTE</td>\n",
       "      <td>6</td>\n",
       "      <td>0</td>\n",
       "      <td>0</td>\n",
       "      <td>NaN</td>\n",
       "      <td>NaN</td>\n",
       "      <td>0</td>\n",
       "      <td>0</td>\n",
       "      <td>0</td>\n",
       "      <td>0.000000</td>\n",
       "      <td>256</td>\n",
       "      <td>NaN</td>\n",
       "      <td>0</td>\n",
       "    </tr>\n",
       "    <tr>\n",
       "      <th>6</th>\n",
       "      <td>7</td>\n",
       "      <td>201411</td>\n",
       "      <td>0</td>\n",
       "      <td>66</td>\n",
       "      <td>M</td>\n",
       "      <td>LA LIBERTAD</td>\n",
       "      <td>4232.0</td>\n",
       "      <td>CLIENTE</td>\n",
       "      <td>1BC</td>\n",
       "      <td>0</td>\n",
       "      <td>0</td>\n",
       "      <td>0.0</td>\n",
       "      <td>0.0</td>\n",
       "      <td>0</td>\n",
       "      <td>0</td>\n",
       "      <td>6</td>\n",
       "      <td>0.000000</td>\n",
       "      <td>85</td>\n",
       "      <td>NaN</td>\n",
       "      <td>0</td>\n",
       "    </tr>\n",
       "    <tr>\n",
       "      <th>7</th>\n",
       "      <td>8</td>\n",
       "      <td>201411</td>\n",
       "      <td>0</td>\n",
       "      <td>57</td>\n",
       "      <td>M</td>\n",
       "      <td>LIMA</td>\n",
       "      <td>1580.0</td>\n",
       "      <td>NO CLIENTE</td>\n",
       "      <td>2</td>\n",
       "      <td>0</td>\n",
       "      <td>0</td>\n",
       "      <td>NaN</td>\n",
       "      <td>NaN</td>\n",
       "      <td>5</td>\n",
       "      <td>6</td>\n",
       "      <td>6</td>\n",
       "      <td>2.166667</td>\n",
       "      <td>151</td>\n",
       "      <td>NaN</td>\n",
       "      <td>0</td>\n",
       "    </tr>\n",
       "    <tr>\n",
       "      <th>8</th>\n",
       "      <td>9</td>\n",
       "      <td>201411</td>\n",
       "      <td>0</td>\n",
       "      <td>65</td>\n",
       "      <td>M</td>\n",
       "      <td>CALLAO</td>\n",
       "      <td>NaN</td>\n",
       "      <td>NO CLIENTE</td>\n",
       "      <td>2</td>\n",
       "      <td>0</td>\n",
       "      <td>0</td>\n",
       "      <td>0.0</td>\n",
       "      <td>0.0</td>\n",
       "      <td>0</td>\n",
       "      <td>0</td>\n",
       "      <td>0</td>\n",
       "      <td>3.333333</td>\n",
       "      <td>778</td>\n",
       "      <td>NaN</td>\n",
       "      <td>0</td>\n",
       "    </tr>\n",
       "    <tr>\n",
       "      <th>9</th>\n",
       "      <td>10</td>\n",
       "      <td>201411</td>\n",
       "      <td>0</td>\n",
       "      <td>63</td>\n",
       "      <td>M</td>\n",
       "      <td>ANCASH</td>\n",
       "      <td>936.0</td>\n",
       "      <td>CLIENTE</td>\n",
       "      <td>2</td>\n",
       "      <td>0</td>\n",
       "      <td>0</td>\n",
       "      <td>NaN</td>\n",
       "      <td>NaN</td>\n",
       "      <td>0</td>\n",
       "      <td>0</td>\n",
       "      <td>0</td>\n",
       "      <td>0.000000</td>\n",
       "      <td>272</td>\n",
       "      <td>NaN</td>\n",
       "      <td>0</td>\n",
       "    </tr>\n",
       "  </tbody>\n",
       "</table>\n",
       "</div>"
      ],
      "text/plain": [
       "   Unnamed: 0  CODMES  TARGET_MODEL2  EDAD SEXO DEPARTAMENTO  \\\n",
       "0           1  201411              0    46    F        PIURA   \n",
       "1           2  201411              0    54    M       LORETO   \n",
       "2           3  201411              0    81    M          NaN   \n",
       "3           4  201411              0    42    M        PIURA   \n",
       "4           5  201411              0    52    M     MOQUEGUA   \n",
       "5           6  201411              0    74    M  LA LIBERTAD   \n",
       "6           7  201411              0    66    M  LA LIBERTAD   \n",
       "7           8  201411              0    57    M         LIMA   \n",
       "8           9  201411              0    65    M       CALLAO   \n",
       "9          10  201411              0    63    M       ANCASH   \n",
       "\n",
       "   INGRESO_BRUTO_M1 FLG_CLIENTE SEGMENTO  FLG_ADEL_SUELDO_M1  FREC_AGENTE  \\\n",
       "0               NaN  NO CLIENTE        2                   0            0   \n",
       "1            4718.0     CLIENTE      1BC                   0            0   \n",
       "2               NaN     CLIENTE        6                   0            0   \n",
       "3             936.0     CLIENTE        2                   0            0   \n",
       "4            5844.0     CLIENTE      1BC                   0            0   \n",
       "5               NaN     CLIENTE        6                   0            0   \n",
       "6            4232.0     CLIENTE      1BC                   0            0   \n",
       "7            1580.0  NO CLIENTE        2                   0            0   \n",
       "8               NaN  NO CLIENTE        2                   0            0   \n",
       "9             936.0     CLIENTE        2                   0            0   \n",
       "\n",
       "   FLG_VEH_SF  FLG_CONV_SF  FREC_KIOSKO  FREC_BPI_TD  FREC_MON_TD  \\\n",
       "0         0.0          0.0            0            0            0   \n",
       "1         0.0          1.0            0            0            0   \n",
       "2         NaN          NaN            0            0            0   \n",
       "3         NaN          NaN            0            0            0   \n",
       "4         NaN          NaN            0            0            0   \n",
       "5         NaN          NaN            0            0            0   \n",
       "6         0.0          0.0            0            0            6   \n",
       "7         NaN          NaN            5            6            6   \n",
       "8         0.0          0.0            0            0            0   \n",
       "9         NaN          NaN            0            0            0   \n",
       "\n",
       "   PROM_CTD_TRX_6M  ANT_CLIENTE  REC_AGENTE_TD  CTD_RECLAMOS_M1  \n",
       "0         0.000000          224            NaN                0  \n",
       "1         0.000000          123            NaN                0  \n",
       "2         0.000000          264            NaN                0  \n",
       "3         0.000000          263            NaN                0  \n",
       "4         0.000000          263            NaN                0  \n",
       "5         0.000000          256            NaN                0  \n",
       "6         0.000000           85            NaN                0  \n",
       "7         2.166667          151            NaN                0  \n",
       "8         3.333333          778            NaN                0  \n",
       "9         0.000000          272            NaN                0  "
      ]
     },
     "execution_count": 183,
     "metadata": {},
     "output_type": "execute_result"
    }
   ],
   "source": [
    "PATH  = os.getcwd() + \"/datos/\"\n",
    "FileCSV=PATH+\"TRAIN_FUGA-10.csv\"\n",
    "train=pd.read_csv(FileCSV,  sep=',')\n",
    "train.head(10)"
   ]
  },
  {
   "cell_type": "code",
   "execution_count": 184,
   "metadata": {},
   "outputs": [
    {
     "data": {
      "text/plain": [
       "10"
      ]
     },
     "execution_count": 184,
     "metadata": {},
     "output_type": "execute_result"
    }
   ],
   "source": [
    "len(train)"
   ]
  },
  {
   "cell_type": "code",
   "execution_count": 185,
   "metadata": {},
   "outputs": [
    {
     "data": {
      "text/plain": [
       "True"
      ]
     },
     "execution_count": 185,
     "metadata": {},
     "output_type": "execute_result"
    }
   ],
   "source": [
    "train.isnull().any().any()"
   ]
  },
  {
   "cell_type": "code",
   "execution_count": 186,
   "metadata": {},
   "outputs": [
    {
     "data": {
      "text/plain": [
       "Unnamed: 0              0.0\n",
       "CODMES                  0.0\n",
       "TARGET_MODEL2           0.0\n",
       "EDAD                    0.0\n",
       "SEXO                    0.0\n",
       "DEPARTAMENTO           10.0\n",
       "INGRESO_BRUTO_M1       40.0\n",
       "FLG_CLIENTE             0.0\n",
       "SEGMENTO                0.0\n",
       "FLG_ADEL_SUELDO_M1      0.0\n",
       "FREC_AGENTE             0.0\n",
       "FLG_VEH_SF             60.0\n",
       "FLG_CONV_SF            60.0\n",
       "FREC_KIOSKO             0.0\n",
       "FREC_BPI_TD             0.0\n",
       "FREC_MON_TD             0.0\n",
       "PROM_CTD_TRX_6M         0.0\n",
       "ANT_CLIENTE             0.0\n",
       "REC_AGENTE_TD         100.0\n",
       "CTD_RECLAMOS_M1         0.0\n",
       "dtype: float64"
      ]
     },
     "execution_count": 186,
     "metadata": {},
     "output_type": "execute_result"
    }
   ],
   "source": [
    "## Hallando el porcentaje de bacios y nulos en mi data \n",
    "(train.isnull().sum() / len(train))*100"
   ]
  },
  {
   "cell_type": "code",
   "execution_count": 187,
   "metadata": {},
   "outputs": [
    {
     "data": {
      "text/plain": [
       "10"
      ]
     },
     "execution_count": 187,
     "metadata": {},
     "output_type": "execute_result"
    }
   ],
   "source": [
    "## toda de data\n",
    "len(train)"
   ]
  },
  {
   "cell_type": "code",
   "execution_count": 188,
   "metadata": {},
   "outputs": [],
   "source": [
    "tipos = train.columns.to_series().groupby(train.dtypes).groups"
   ]
  },
  {
   "cell_type": "code",
   "execution_count": 189,
   "metadata": {},
   "outputs": [
    {
     "data": {
      "text/plain": [
       "4"
      ]
     },
     "execution_count": 189,
     "metadata": {},
     "output_type": "execute_result"
    }
   ],
   "source": [
    "# Armando lista de columnas categóricas\n",
    "ctext = tipos[np.dtype('object')]\n",
    "len(ctext)  # cantidad de columnas con datos categóricos. \n"
   ]
  },
  {
   "cell_type": "code",
   "execution_count": 190,
   "metadata": {},
   "outputs": [
    {
     "data": {
      "text/plain": [
       "16"
      ]
     },
     "execution_count": 190,
     "metadata": {},
     "output_type": "execute_result"
    }
   ],
   "source": [
    "# Armando lista de columnas numéricas\n",
    "columnas = train.columns  # lista de todas las columnas\n",
    "cnum = list(set(columnas) - set(ctext))\n",
    "len(cnum)\n"
   ]
  },
  {
   "cell_type": "code",
   "execution_count": 195,
   "metadata": {},
   "outputs": [],
   "source": [
    "#Bucle\n",
    "# Completando valores faltantas datos cuantititavos\n",
    "for c in cnum:\n",
    "    mean = train[c].mean()\n",
    "    train[c] = train[c].fillna(mean)"
   ]
  },
  {
   "cell_type": "code",
   "execution_count": 196,
   "metadata": {},
   "outputs": [],
   "source": [
    "#Bucle\n",
    "# Completando valores faltantas datos categóricos\n",
    "for c in ctext:\n",
    "    mode = train[c].mode()[0]\n",
    "    train[c] = train[c].fillna(mode)"
   ]
  },
  {
   "cell_type": "code",
   "execution_count": 199,
   "metadata": {},
   "outputs": [
    {
     "data": {
      "text/plain": [
       "True"
      ]
     },
     "execution_count": 199,
     "metadata": {},
     "output_type": "execute_result"
    }
   ],
   "source": [
    "## validando que no existan datos nulos en mi data\n",
    "train.isnull().any().any()"
   ]
  },
  {
   "cell_type": "code",
   "execution_count": 204,
   "metadata": {},
   "outputs": [
    {
     "data": {
      "image/png": "[encoded data removed]",
      "text/plain": [
       "<Figure size 432x288 with 1 Axes>"
      ]
     },
     "metadata": {},
     "output_type": "display_data"
    }
   ],
   "source": [
    "# Grafico de totas del porcentaje de donantes\n",
    "# Agrupando por Genero\n",
    "sexo = train.groupby('SEXO').SEXO.count() \n",
    "# Creando las leyendas del grafico.\n",
    "labels = [ 'SEXO\\n' + str(round(x * 1.0 / sexo.sum() * \n",
    "                            100.0, 2)) + '%'  for x in sexo ]\n",
    "\n",
    "labels[0] = 'No ' + labels[0]\n",
    "\n",
    "plt.pie(sexo, labels=labels)\n",
    "plt.title('Porcion de Sexo')\n",
    "plt.show()"
   ]
  },
  {
   "cell_type": "code",
   "execution_count": null,
   "metadata": {},
   "outputs": [],
   "source": []
  },
  {
   "cell_type": "code",
   "execution_count": null,
   "metadata": {},
   "outputs": [],
   "source": []
  }
 ],
 "metadata": {
  "kernelspec": {
   "display_name": "Python 3",
   "language": "python",
   "name": "python3"
  },
  "language_info": {
   "codemirror_mode": {
    "name": "ipython",
    "version": 3
   },
   "file_extension": ".py",
   "mimetype": "text/x-python",
   "name": "python",
   "nbconvert_exporter": "python",
   "pygments_lexer": "ipython3",
   "version": "3.7.3"
  }
 },
 "nbformat": 4,
 "nbformat_minor": 2
}
